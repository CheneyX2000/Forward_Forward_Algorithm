{
 "cells": [
  {
   "cell_type": "code",
   "execution_count": null,
   "id": "d6d0a55d",
   "metadata": {},
   "outputs": [],
   "source": [
    "# for a neuron i, the activation (a_i) is\n",
    "# a_i = W_i * x + b_i"
   ]
  },
  {
   "cell_type": "code",
   "execution_count": null,
   "id": "f0fc7289",
   "metadata": {},
   "outputs": [],
   "source": [
    "# compute goodness (g_i)\n",
    "# g_i = sum(a_i ** 2)"
   ]
  },
  {
   "cell_type": "code",
   "execution_count": null,
   "id": "b255bbc4",
   "metadata": {},
   "outputs": [],
   "source": [
    "# (eta: Learning rate; x: Input vector; W: weights; a_i: Activation)\n",
    "# compute gradient for weight:\n",
    "# ∂g_i/∂W_i = ∂(a_i²)/∂W_i = 2·a_i·∂a_i/∂W_i = 2·a_i·x\n",
    "# and that is:\n",
    "# grad = 2 * a_i * x"
   ]
  },
  {
   "cell_type": "code",
   "execution_count": null,
   "id": "dba69efe",
   "metadata": {},
   "outputs": [],
   "source": [
    "# weight update rules:\n",
    "    # for Positive: W += eta * grad\n",
    "    # for Negative: W -= eta * grad"
   ]
  }
 ],
 "metadata": {
  "kernelspec": {
   "display_name": "forward_forward_env",
   "language": "python",
   "name": "python3"
  },
  "language_info": {
   "name": "python",
   "version": "-1.-1.-1"
  }
 },
 "nbformat": 4,
 "nbformat_minor": 5
}
