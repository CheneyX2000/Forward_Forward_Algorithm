{
 "cells": [
  {
   "cell_type": "code",
   "execution_count": null,
   "id": "1ff8fdb0",
   "metadata": {},
   "outputs": [],
   "source": [
    "import FFLayer"
   ]
  },
  {
   "cell_type": "code",
   "execution_count": null,
   "id": "98a819ee",
   "metadata": {},
   "outputs": [],
   "source": [
    "# test\n",
    "layer = FFLayer(input_dim=5, output_dim=3)\n",
    "x = np.random.randn(5)\n",
    "activations = layer.forward(x)\n",
    "goodness_before = layer.compute_goodness(activations)\n",
    "\n",
    "layer.update_weights(x, activations, is_positive=True)\n",
    "new_activations = layer.forward(x)\n",
    "goodness_after = layer.compute_goodness(new_activations)\n",
    "\n",
    "print(f\"Goodness before: {goodness_before}\")\n",
    "print(f\"Goodness after: {goodness_after}\")\n",
    "print(f\"Improved: {goodness_after > goodness_before}\")"
   ]
  }
 ],
 "metadata": {
  "kernelspec": {
   "display_name": "forward_forward_env",
   "language": "python",
   "name": "python3"
  },
  "language_info": {
   "name": "python",
   "version": "3.12.11"
  }
 },
 "nbformat": 4,
 "nbformat_minor": 5
}
